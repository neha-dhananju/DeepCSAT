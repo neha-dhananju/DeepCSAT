{
 "cells": [
  {
   "cell_type": "markdown",
   "id": "292bd7f4",
   "metadata": {},
   "source": [
    "## Data Ingetsion"
   ]
  },
  {
   "cell_type": "code",
   "execution_count": 4,
   "id": "ca8b14b5",
   "metadata": {},
   "outputs": [],
   "source": [
    "# Installing libraries\n",
    "\n",
    "import pandas as pd\n",
    "import numpy as np\n",
    "import matplotlib.pyplot as plt\n",
    "import seaborn as sns"
   ]
  },
  {
   "cell_type": "code",
   "execution_count": 5,
   "id": "612643ef",
   "metadata": {},
   "outputs": [],
   "source": [
    "pd.set_option('display.max_columns', None)\n",
    "sns.set(style=\"whitegrid\")"
   ]
  },
  {
   "cell_type": "code",
   "execution_count": 6,
   "id": "7b9b9538",
   "metadata": {},
   "outputs": [],
   "source": [
    "data=pd.read_csv('/Users/nehadhananju/Desktop/DeepCSAT/data/raw/data.csv')"
   ]
  },
  {
   "cell_type": "code",
   "execution_count": 10,
   "id": "7c78bb1c",
   "metadata": {},
   "outputs": [
    {
     "name": "stdout",
     "output_type": "stream",
     "text": [
      "Data shape: (85907, 20)\n",
      "\n",
      "==============================================\n",
      "\n",
      "Data Columns:  Index(['Unique id', 'channel_name', 'category', 'Sub-category',\n",
      "       'Customer Remarks', 'Order_id', 'order_date_time', 'Issue_reported at',\n",
      "       'issue_responded', 'Survey_response_Date', 'Customer_City',\n",
      "       'Product_category', 'Item_price', 'connected_handling_time',\n",
      "       'Agent_name', 'Supervisor', 'Manager', 'Tenure Bucket', 'Agent Shift',\n",
      "       'CSAT Score'],\n",
      "      dtype='object')\n",
      "\n",
      "==============================================\n",
      "\n",
      "Data types:  Unique id                   object\n",
      "channel_name                object\n",
      "category                    object\n",
      "Sub-category                object\n",
      "Customer Remarks            object\n",
      "Order_id                    object\n",
      "order_date_time             object\n",
      "Issue_reported at           object\n",
      "issue_responded             object\n",
      "Survey_response_Date        object\n",
      "Customer_City               object\n",
      "Product_category            object\n",
      "Item_price                 float64\n",
      "connected_handling_time    float64\n",
      "Agent_name                  object\n",
      "Supervisor                  object\n",
      "Manager                     object\n",
      "Tenure Bucket               object\n",
      "Agent Shift                 object\n",
      "CSAT Score                   int64\n",
      "dtype: object\n",
      "\n",
      "==============================================\n",
      "\n",
      "First five rows:                                Unique id channel_name         category  \\\n",
      "0  7e9ae164-6a8b-4521-a2d4-58f7c9fff13f      Outcall  Product Queries   \n",
      "1  b07ec1b0-f376-43b6-86df-ec03da3b2e16      Outcall  Product Queries   \n",
      "2  200814dd-27c7-4149-ba2b-bd3af3092880      Inbound    Order Related   \n",
      "3  eb0d3e53-c1ca-42d3-8486-e42c8d622135      Inbound          Returns   \n",
      "4  ba903143-1e54-406c-b969-46c52f92e5df      Inbound     Cancellation   \n",
      "\n",
      "                   Sub-category Customer Remarks  \\\n",
      "0                Life Insurance              NaN   \n",
      "1  Product Specific Information              NaN   \n",
      "2             Installation/demo              NaN   \n",
      "3        Reverse Pickup Enquiry              NaN   \n",
      "4                    Not Needed              NaN   \n",
      "\n",
      "                               Order_id order_date_time Issue_reported at  \\\n",
      "0  c27c9bb4-fa36-4140-9f1f-21009254ffdb             NaN  01/08/2023 11:13   \n",
      "1  d406b0c7-ce17-4654-b9de-f08d421254bd             NaN  01/08/2023 12:52   \n",
      "2  c273368d-b961-44cb-beaf-62d6fd6c00d5             NaN  01/08/2023 20:16   \n",
      "3  5aed0059-55a4-4ec6-bb54-97942092020a             NaN  01/08/2023 20:56   \n",
      "4  e8bed5a9-6933-4aff-9dc6-ccefd7dcde59             NaN  01/08/2023 10:30   \n",
      "\n",
      "    issue_responded Survey_response_Date Customer_City Product_category  \\\n",
      "0  01/08/2023 11:47            01-Aug-23           NaN              NaN   \n",
      "1  01/08/2023 12:54            01-Aug-23           NaN              NaN   \n",
      "2  01/08/2023 20:38            01-Aug-23           NaN              NaN   \n",
      "3  01/08/2023 21:16            01-Aug-23           NaN              NaN   \n",
      "4  01/08/2023 10:32            01-Aug-23           NaN              NaN   \n",
      "\n",
      "   Item_price  connected_handling_time           Agent_name      Supervisor  \\\n",
      "0         NaN                      NaN     Richard Buchanan     Mason Gupta   \n",
      "1         NaN                      NaN        Vicki Collins       Dylan Kim   \n",
      "2         NaN                      NaN         Duane Norman    Jackson Park   \n",
      "3         NaN                      NaN       Patrick Flores     Olivia Wang   \n",
      "4         NaN                      NaN  Christopher Sanchez  Austin Johnson   \n",
      "\n",
      "           Manager    Tenure Bucket Agent Shift  CSAT Score  \n",
      "0  Jennifer Nguyen  On Job Training     Morning           5  \n",
      "1      Michael Lee              >90     Morning           5  \n",
      "2      William Kim  On Job Training     Evening           5  \n",
      "3       John Smith              >90     Evening           5  \n",
      "4      Michael Lee             0-30     Morning           5  \n"
     ]
    }
   ],
   "source": [
    "# Basic data info\n",
    "\n",
    "print('Data shape:',data.shape)\n",
    "print(\"\\n==============================================\\n\")\n",
    "print('Data Columns: ',data.columns)\n",
    "print(\"\\n==============================================\\n\")\n",
    "print('Data types: ',data.dtypes)\n",
    "print(\"\\n==============================================\\n\")\n",
    "print('First five rows: ',data.head())\n"
   ]
  },
  {
   "cell_type": "code",
   "execution_count": 15,
   "id": "2f9aad4c",
   "metadata": {},
   "outputs": [
    {
     "name": "stdout",
     "output_type": "stream",
     "text": [
      "Missing values:\n",
      " Unique id                      0\n",
      "channel_name                   0\n",
      "category                       0\n",
      "Sub-category                   0\n",
      "Customer Remarks           57165\n",
      "Order_id                   18232\n",
      "order_date_time            68693\n",
      "Issue_reported at              0\n",
      "issue_responded                0\n",
      "Survey_response_Date           0\n",
      "Customer_City              68828\n",
      "Product_category           68711\n",
      "Item_price                 68701\n",
      "connected_handling_time    85665\n",
      "Agent_name                     0\n",
      "Supervisor                     0\n",
      "Manager                        0\n",
      "Tenure Bucket                  0\n",
      "Agent Shift                    0\n",
      "CSAT Score                     0\n",
      "dtype: int64\n"
     ]
    }
   ],
   "source": [
    "# Checking for missing values \n",
    "print(\"Missing values:\\n\",data.isnull().sum())"
   ]
  },
  {
   "cell_type": "code",
   "execution_count": 17,
   "id": "74eff880",
   "metadata": {},
   "outputs": [
    {
     "name": "stdout",
     "output_type": "stream",
     "text": [
      "Duplicate values :  0\n"
     ]
    }
   ],
   "source": [
    "# Checking for duplicate values\n",
    "print(\"Duplicate values : \",data.duplicated().sum())"
   ]
  },
  {
   "cell_type": "code",
   "execution_count": 21,
   "id": "928134f6",
   "metadata": {},
   "outputs": [
    {
     "name": "stdout",
     "output_type": "stream",
     "text": [
      "Numerical Features Summary:\n",
      "            Item_price  connected_handling_time    CSAT Score\n",
      "count   17206.000000               242.000000  85907.000000\n",
      "mean     5660.774846               462.400826      4.242157\n",
      "std     12825.728411               246.295037      1.378903\n",
      "min         0.000000                 0.000000      1.000000\n",
      "25%       392.000000               293.000000      4.000000\n",
      "50%       979.000000               427.000000      5.000000\n",
      "75%      2699.750000               592.250000      5.000000\n",
      "max    164999.000000              1986.000000      5.000000\n",
      "\n",
      "==============================================\n",
      "\n",
      "Categorical Feature Summary:\n",
      "                                     Unique id channel_name category  \\\n",
      "count                                  85907        85907    85907   \n",
      "unique                                 85907            3       12   \n",
      "top     7e9ae164-6a8b-4521-a2d4-58f7c9fff13f      Inbound  Returns   \n",
      "freq                                       1        68142    44097   \n",
      "\n",
      "                  Sub-category Customer Remarks  \\\n",
      "count                    85907            28742   \n",
      "unique                      57            18231   \n",
      "top     Reverse Pickup Enquiry            Good    \n",
      "freq                     22389             1390   \n",
      "\n",
      "                                    Order_id   order_date_time  \\\n",
      "count                                  67675             17214   \n",
      "unique                                 67675             13766   \n",
      "top     c27c9bb4-fa36-4140-9f1f-21009254ffdb  09/08/2023 11:55   \n",
      "freq                                       1                 7   \n",
      "\n",
      "       Issue_reported at   issue_responded Survey_response_Date Customer_City  \\\n",
      "count              85907             85907                85907         17079   \n",
      "unique             30923             30262                   31          1782   \n",
      "top     15/08/2023 10:59  28/08/2023 00:00            28-Aug-23     HYDERABAD   \n",
      "freq                  13              3378                 3452           722   \n",
      "\n",
      "       Product_category    Agent_name   Supervisor     Manager Tenure Bucket  \\\n",
      "count             17196         85907        85907       85907         85907   \n",
      "unique                9          1371           40           6             5   \n",
      "top         Electronics  Wendy Taylor  Carter Park  John Smith           >90   \n",
      "freq               4706           429         4273       25261         30660   \n",
      "\n",
      "       Agent Shift  \n",
      "count        85907  \n",
      "unique           5  \n",
      "top        Morning  \n",
      "freq         41426  \n"
     ]
    }
   ],
   "source": [
    "# Summary statics \n",
    "\n",
    "print(\"Numerical Features Summary:\\n \",data.describe())\n",
    "print(\"\\n==============================================\\n\")\n",
    "print(\"Categorical Feature Summary:\\n \",data.describe(include=object))\n"
   ]
  },
  {
   "cell_type": "code",
   "execution_count": null,
   "id": "7a405c80",
   "metadata": {},
   "outputs": [],
   "source": []
  },
  {
   "cell_type": "code",
   "execution_count": null,
   "id": "4a048d7d",
   "metadata": {},
   "outputs": [],
   "source": []
  },
  {
   "cell_type": "code",
   "execution_count": null,
   "id": "11e9f27a",
   "metadata": {},
   "outputs": [],
   "source": []
  },
  {
   "cell_type": "code",
   "execution_count": null,
   "id": "50e0b921",
   "metadata": {},
   "outputs": [],
   "source": []
  },
  {
   "cell_type": "markdown",
   "id": "859d490a",
   "metadata": {},
   "source": [
    "# "
   ]
  }
 ],
 "metadata": {
  "kernelspec": {
   "display_name": "denv",
   "language": "python",
   "name": "python3"
  },
  "language_info": {
   "codemirror_mode": {
    "name": "ipython",
    "version": 3
   },
   "file_extension": ".py",
   "mimetype": "text/x-python",
   "name": "python",
   "nbconvert_exporter": "python",
   "pygments_lexer": "ipython3",
   "version": "3.10.18"
  }
 },
 "nbformat": 4,
 "nbformat_minor": 5
}
