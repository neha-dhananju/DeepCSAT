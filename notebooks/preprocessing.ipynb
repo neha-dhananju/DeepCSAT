{
 "cells": [
  {
   "cell_type": "code",
   "execution_count": 1,
   "id": "39968eb3",
   "metadata": {},
   "outputs": [],
   "source": [
    "# Import Libraries\n",
    "import pandas as pd\n",
    "import numpy as np\n",
    "from sklearn.preprocessing import LabelEncoder, OneHotEncoder, StandardScaler\n",
    "from sklearn.model_selection import train_test_split\n",
    "from sklearn.feature_extraction.text import TfidfVectorizer\n",
    "from nltk.corpus import stopwords\n",
    "import nltk\n",
    "import re\n",
    "import joblib"
   ]
  },
  {
   "cell_type": "code",
   "execution_count": 2,
   "id": "0a0831a9",
   "metadata": {},
   "outputs": [
    {
     "name": "stderr",
     "output_type": "stream",
     "text": [
      "[nltk_data] Downloading package stopwords to\n",
      "[nltk_data]     /Users/nehadhananju/nltk_data...\n",
      "[nltk_data]   Package stopwords is already up-to-date!\n"
     ]
    },
    {
     "data": {
      "text/plain": [
       "True"
      ]
     },
     "execution_count": 2,
     "metadata": {},
     "output_type": "execute_result"
    }
   ],
   "source": [
    "nltk.download('stopwords')"
   ]
  },
  {
   "cell_type": "code",
   "execution_count": 3,
   "id": "c4fc6964",
   "metadata": {},
   "outputs": [],
   "source": [
    "# Load the dataset\n",
    "data=pd.read_csv('/Users/nehadhananju/Desktop/DeepCSAT/data/raw/data.csv')"
   ]
  },
  {
   "cell_type": "code",
   "execution_count": 4,
   "id": "e9c9f8f8",
   "metadata": {},
   "outputs": [
    {
     "name": "stdout",
     "output_type": "stream",
     "text": [
      "Initial Shape: (85907, 20)\n",
      "\n",
      "Missing Values:\n",
      " Unique id                      0\n",
      "channel_name                   0\n",
      "category                       0\n",
      "Sub-category                   0\n",
      "Customer Remarks           57165\n",
      "Order_id                   18232\n",
      "order_date_time            68693\n",
      "Issue_reported at              0\n",
      "issue_responded                0\n",
      "Survey_response_Date           0\n",
      "Customer_City              68828\n",
      "Product_category           68711\n",
      "Item_price                 68701\n",
      "connected_handling_time    85665\n",
      "Agent_name                     0\n",
      "Supervisor                     0\n",
      "Manager                        0\n",
      "Tenure Bucket                  0\n",
      "Agent Shift                    0\n",
      "CSAT Score                     0\n",
      "dtype: int64\n"
     ]
    }
   ],
   "source": [
    "print(\"Initial Shape:\", data.shape)\n",
    "print(\"\\nMissing Values:\\n\", data.isnull().sum())\n"
   ]
  },
  {
   "cell_type": "markdown",
   "id": "7b562adb",
   "metadata": {},
   "source": [
    "## Handling Missing values"
   ]
  },
  {
   "cell_type": "code",
   "execution_count": 6,
   "id": "e75c846c",
   "metadata": {},
   "outputs": [],
   "source": [
    "# Drop low-value columns\n",
    "data = data.drop(columns=['connected_handling_time', 'Manager', 'Supervisor', 'Order_id', 'order_date_time'], errors='ignore')"
   ]
  },
  {
   "cell_type": "code",
   "execution_count": 8,
   "id": "0f0e19ff",
   "metadata": {},
   "outputs": [],
   "source": [
    "# Fill missing fields\n",
    "\n",
    "# Text columns\n",
    "data['Customer Remarks'] = data['Customer Remarks'].fillna('No Remarks')\n",
    "data['Customer_City'] = data['Customer_City'].fillna('Unknown')\n",
    "data['Product_category'] = data['Product_category'].fillna('Unknown')\n",
    "\n",
    "# Numeric column\n",
    "data['Item_price'] = data['Item_price'].fillna(data['Item_price'].median())\n",
    "\n"
   ]
  },
  {
   "cell_type": "markdown",
   "id": "1678dcf2",
   "metadata": {},
   "source": [
    "## Feature Engineering"
   ]
  },
  {
   "cell_type": "code",
   "execution_count": 14,
   "id": "f66c9f45",
   "metadata": {},
   "outputs": [],
   "source": [
    "# Feature Engineering - Time Features\n",
    "data['Issue_reported at']=pd.to_datetime(data['Issue_reported at'],dayfirst=True, errors='coerce')\n",
    "data['issue_responded']=pd.to_datetime(data['issue_responded'],dayfirst=True, errors='coerce')\n",
    "\n"
   ]
  },
  {
   "cell_type": "code",
   "execution_count": 16,
   "id": "c60670ce",
   "metadata": {},
   "outputs": [],
   "source": [
    "# Calculate response time in hours\n",
    "data['response_time_hours'] = (data['issue_responded'] - data['Issue_reported at']).dt.total_seconds() / 3600\n",
    "data['response_time_hours'] = data['response_time_hours'].fillna(data['response_time_hours'].median())\n"
   ]
  },
  {
   "cell_type": "code",
   "execution_count": 17,
   "id": "e50a7c31",
   "metadata": {},
   "outputs": [],
   "source": [
    "#  Drop unused datetime columns\n",
    "data = data.drop(columns=['Issue_reported at', 'issue_responded','Survey_response_Date'], errors='ignore')\n"
   ]
  },
  {
   "cell_type": "markdown",
   "id": "cd4aaf6d",
   "metadata": {},
   "source": [
    "## Text Cleaning"
   ]
  },
  {
   "cell_type": "code",
   "execution_count": 18,
   "id": "ea253a46",
   "metadata": {},
   "outputs": [],
   "source": [
    "#  Text Cleaning - Customer Remarks\n",
    "def clean_text(text):\n",
    "    text = str(text).lower()\n",
    "    text = re.sub(r'[^a-z\\s]', '', text)\n",
    "    text = ' '.join([word for word in text.split() if word not in stopwords.words('english')])\n",
    "    return text\n",
    "\n",
    "data['cleaned_remarks'] = data['Customer Remarks'].apply(clean_text)\n"
   ]
  },
  {
   "cell_type": "code",
   "execution_count": 19,
   "id": "cc101a1e",
   "metadata": {},
   "outputs": [],
   "source": [
    "# TF-IDF vectorization for remarks\n",
    "vectorizer = TfidfVectorizer(max_features=100)\n",
    "remarks_tfidf = vectorizer.fit_transform(data['cleaned_remarks']).toarray()\n",
    "remarks_df = pd.DataFrame(remarks_tfidf, columns=[f'tfidf_{i}' for i in range(remarks_tfidf.shape[1])])\n",
    "\n"
   ]
  },
  {
   "cell_type": "markdown",
   "id": "deafb43b",
   "metadata": {},
   "source": [
    "## Encoding Categorical Variables"
   ]
  },
  {
   "cell_type": "code",
   "execution_count": 22,
   "id": "16a6279a",
   "metadata": {},
   "outputs": [],
   "source": [
    "cat_cols = [ 'channel_name', 'category', 'Sub-category',  'Customer_City', 'Product_category',  'Agent_name', 'Tenure Bucket', 'Agent Shift']\n",
    "# Use LabelEncoder for simplicity \n",
    "le = LabelEncoder()\n",
    "for col in cat_cols:\n",
    "    data[col] = le.fit_transform(data[col])\n"
   ]
  },
  {
   "cell_type": "markdown",
   "id": "0deae30a",
   "metadata": {},
   "source": [
    "## Scaling Numerical Features"
   ]
  },
  {
   "cell_type": "code",
   "execution_count": 25,
   "id": "8c41ba5c",
   "metadata": {},
   "outputs": [],
   "source": [
    "num_cols = ['Item_price', 'response_time_hours']\n",
    "scaler = StandardScaler()\n",
    "data[num_cols] = scaler.fit_transform(data[num_cols])"
   ]
  },
  {
   "cell_type": "markdown",
   "id": "4fe6da43",
   "metadata": {},
   "source": [
    "## Combining all features"
   ]
  },
  {
   "cell_type": "code",
   "execution_count": 26,
   "id": "8ed2a910",
   "metadata": {},
   "outputs": [
    {
     "name": "stdout",
     "output_type": "stream",
     "text": [
      "Feature matrix shape: (85907, 110)\n",
      "Target variable distribution:\n",
      " CSAT Score\n",
      "5    59617\n",
      "1    11230\n",
      "4    11219\n",
      "3     2558\n",
      "2     1283\n",
      "Name: count, dtype: int64\n"
     ]
    }
   ],
   "source": [
    "# 8️⃣ Combine All Features\n",
    "X = pd.concat([data[cat_cols + num_cols], remarks_df], axis=1)\n",
    "y = data['CSAT Score']\n",
    "\n",
    "print(\"Feature matrix shape:\", X.shape)\n",
    "print(\"Target variable distribution:\\n\", y.value_counts())\n"
   ]
  },
  {
   "cell_type": "markdown",
   "id": "6eb4dece",
   "metadata": {},
   "source": [
    "## Train_Test Split"
   ]
  },
  {
   "cell_type": "code",
   "execution_count": 28,
   "id": "78380e71",
   "metadata": {},
   "outputs": [
    {
     "name": "stdout",
     "output_type": "stream",
     "text": [
      "Train shape: (68725, 110) Test shape: (17182, 110)\n"
     ]
    }
   ],
   "source": [
    "X_train, X_test, y_train, y_test = train_test_split(X, y, test_size=0.2, random_state=42, stratify=y)\n",
    "print(\"Train shape:\", X_train.shape, \"Test shape:\", X_test.shape)\n",
    "\n",
    "# Save Preprocessed Data and Objects\n",
    "X_train.to_csv(\"/Users/nehadhananju/Desktop/DeepCSAT/data/processed/X_train.csv\", index=False)\n",
    "X_test.to_csv(\"/Users/nehadhananju/Desktop/DeepCSAT/data/processed/X_test.csv\", index=False)\n",
    "y_train.to_csv(\"/Users/nehadhananju/Desktop/DeepCSAT/data/processed/y_train.csv\", index=False)\n",
    "y_test.to_csv(\"/Users/nehadhananju/Desktop/DeepCSAT/data/processed/y_test.csv\", index=False)\n"
   ]
  },
  {
   "cell_type": "code",
   "execution_count": 29,
   "id": "12a06e79",
   "metadata": {},
   "outputs": [
    {
     "data": {
      "text/plain": [
       "['../models/label_encoder.pkl']"
      ]
     },
     "execution_count": 29,
     "metadata": {},
     "output_type": "execute_result"
    }
   ],
   "source": [
    "#  Save encoders/scalers/vectorizer \n",
    "joblib.dump(scaler, \"../models/scaler.pkl\")\n",
    "joblib.dump(vectorizer, \"../models/vectorizer.pkl\")\n",
    "joblib.dump(le,\"../models/label_encoder.pkl\")"
   ]
  },
  {
   "cell_type": "code",
   "execution_count": null,
   "id": "6adc7aa8",
   "metadata": {},
   "outputs": [],
   "source": []
  }
 ],
 "metadata": {
  "kernelspec": {
   "display_name": "denv",
   "language": "python",
   "name": "python3"
  },
  "language_info": {
   "codemirror_mode": {
    "name": "ipython",
    "version": 3
   },
   "file_extension": ".py",
   "mimetype": "text/x-python",
   "name": "python",
   "nbconvert_exporter": "python",
   "pygments_lexer": "ipython3",
   "version": "3.10.18"
  }
 },
 "nbformat": 4,
 "nbformat_minor": 5
}
